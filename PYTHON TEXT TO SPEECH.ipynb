{
 "cells": [
  {
   "cell_type": "code",
   "execution_count": 5,
   "id": "00d6512d",
   "metadata": {},
   "outputs": [],
   "source": [
    "\n",
    "    def text_to_speech(): \n",
    "        from gtts import gTTS\n",
    "        import os\n",
    "        text = input('enter your text : ')\n",
    "        language = input('language --> en (or) fr')\n",
    "        myText = f\"'{text}'\"\n",
    "        output = gTTS (text = myText , lang = language , slow = False)\n",
    "        output.save (\"output.mp3\")\n",
    "        os.system (\"start output.mp3\")"
   ]
  },
  {
   "cell_type": "code",
   "execution_count": 6,
   "id": "8b3bed51",
   "metadata": {},
   "outputs": [
    {
     "name": "stdout",
     "output_type": "stream",
     "text": [
      "enter your text : hello world\n",
      "en (or) fren\n"
     ]
    }
   ],
   "source": [
    "text_to_speech()"
   ]
  },
  {
   "cell_type": "code",
   "execution_count": null,
   "id": "cb773007",
   "metadata": {},
   "outputs": [],
   "source": []
  }
 ],
 "metadata": {
  "kernelspec": {
   "display_name": "Python 3 (ipykernel)",
   "language": "python",
   "name": "python3"
  },
  "language_info": {
   "codemirror_mode": {
    "name": "ipython",
    "version": 3
   },
   "file_extension": ".py",
   "mimetype": "text/x-python",
   "name": "python",
   "nbconvert_exporter": "python",
   "pygments_lexer": "ipython3",
   "version": "3.9.12"
  }
 },
 "nbformat": 4,
 "nbformat_minor": 5
}
